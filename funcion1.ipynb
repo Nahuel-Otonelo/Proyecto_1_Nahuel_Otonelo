{
 "cells": [
  {
   "cell_type": "code",
   "execution_count": 3,
   "metadata": {},
   "outputs": [],
   "source": [
    "import pandas as pd\n",
    "import numpy as np\n",
    "import ast\n",
    "import json\n",
    "from datetime import datetime\n"
   ]
  },
  {
   "cell_type": "code",
   "execution_count": 16,
   "metadata": {},
   "outputs": [],
   "source": [
    "#dfreviews = pd.read_pickle('dfjuntado.pkl') # Desglosa la columna reviews de la tabla reviews, presenta solo las columnas que estan adentro de reviews.\n",
    "#user_id\tfunny   posted  last_edited     item_id     recommend    review\n",
    "\n",
    "dfitems = pd.read_pickle('dfitems.pkl') # Desglosa la columna items de la tabla items, retorna solo los items.\n",
    "#user_id     item_id     item_name   playtime_forever    playtime_2weeks\n",
    "\n",
    "#items_count = pd.read_pickle('items_count') # es la tabla items pero sin la columna items.\n",
    "#user_id     items_count     steam_id    user_url\n",
    "\n",
    "steams = pd.read_pickle('steams.pkl') # es la tabla steams\n",
    "\n",
    "\n",
    "#respuesta3 = pd.read_pickle('respuesta3.pkl')\n"
   ]
  },
  {
   "cell_type": "code",
   "execution_count": 21,
   "metadata": {},
   "outputs": [
    {
     "name": "stdout",
     "output_type": "stream",
     "text": [
      "<class 'pandas.core.frame.DataFrame'>\n",
      "Int64Index: 27462 entries, 88310 to 120443\n",
      "Data columns (total 13 columns):\n",
      " #   Column        Non-Null Count  Dtype  \n",
      "---  ------        --------------  -----  \n",
      " 0   publisher     22818 non-null  object \n",
      " 1   genres        27462 non-null  object \n",
      " 2   app_name      27462 non-null  object \n",
      " 3   title         27462 non-null  object \n",
      " 4   url           27462 non-null  object \n",
      " 5   release_date  27462 non-null  object \n",
      " 6   tags          27449 non-null  object \n",
      " 7   reviews_url   27462 non-null  object \n",
      " 8   specs         27182 non-null  object \n",
      " 9   price         27462 non-null  float64\n",
      " 10  early_access  27462 non-null  object \n",
      " 11  item_id       27462 non-null  int32  \n",
      " 12  developer     27462 non-null  object \n",
      "dtypes: float64(1), int32(1), object(11)\n",
      "memory usage: 2.8+ MB\n"
     ]
    }
   ],
   "source": [
    "steams.rename(columns={'id':'item_id'}, inplace=True)\n",
    "steams['item_id'] = steams['item_id'].astype(int)\n",
    "steams.info()"
   ]
  },
  {
   "cell_type": "code",
   "execution_count": 22,
   "metadata": {},
   "outputs": [
    {
     "data": {
      "text/html": [
       "<div>\n",
       "<style scoped>\n",
       "    .dataframe tbody tr th:only-of-type {\n",
       "        vertical-align: middle;\n",
       "    }\n",
       "\n",
       "    .dataframe tbody tr th {\n",
       "        vertical-align: top;\n",
       "    }\n",
       "\n",
       "    .dataframe thead th {\n",
       "        text-align: right;\n",
       "    }\n",
       "</style>\n",
       "<table border=\"1\" class=\"dataframe\">\n",
       "  <thead>\n",
       "    <tr style=\"text-align: right;\">\n",
       "      <th></th>\n",
       "      <th>user_id</th>\n",
       "      <th>suma_dinero_gastado</th>\n",
       "    </tr>\n",
       "  </thead>\n",
       "  <tbody>\n",
       "    <tr>\n",
       "      <th>0</th>\n",
       "      <td>--000--</td>\n",
       "      <td>397.78</td>\n",
       "    </tr>\n",
       "    <tr>\n",
       "      <th>1</th>\n",
       "      <td>--ace--</td>\n",
       "      <td>166.82</td>\n",
       "    </tr>\n",
       "    <tr>\n",
       "      <th>2</th>\n",
       "      <td>--ionex--</td>\n",
       "      <td>99.93</td>\n",
       "    </tr>\n",
       "    <tr>\n",
       "      <th>3</th>\n",
       "      <td>-2SV-vuLB-Kg</td>\n",
       "      <td>427.50</td>\n",
       "    </tr>\n",
       "    <tr>\n",
       "      <th>4</th>\n",
       "      <td>-404PageNotFound-</td>\n",
       "      <td>1509.32</td>\n",
       "    </tr>\n",
       "    <tr>\n",
       "      <th>...</th>\n",
       "      <td>...</td>\n",
       "      <td>...</td>\n",
       "    </tr>\n",
       "    <tr>\n",
       "      <th>68585</th>\n",
       "      <td>zzonci</td>\n",
       "      <td>19.98</td>\n",
       "    </tr>\n",
       "    <tr>\n",
       "      <th>68586</th>\n",
       "      <td>zzoptimuszz</td>\n",
       "      <td>64.98</td>\n",
       "    </tr>\n",
       "    <tr>\n",
       "      <th>68587</th>\n",
       "      <td>zzydrax</td>\n",
       "      <td>99.94</td>\n",
       "    </tr>\n",
       "    <tr>\n",
       "      <th>68588</th>\n",
       "      <td>zzyfo</td>\n",
       "      <td>813.53</td>\n",
       "    </tr>\n",
       "    <tr>\n",
       "      <th>68589</th>\n",
       "      <td>zzzmidmiss</td>\n",
       "      <td>443.68</td>\n",
       "    </tr>\n",
       "  </tbody>\n",
       "</table>\n",
       "<p>68590 rows × 2 columns</p>\n",
       "</div>"
      ],
      "text/plain": [
       "                 user_id  suma_dinero_gastado\n",
       "0                --000--               397.78\n",
       "1                --ace--               166.82\n",
       "2              --ionex--                99.93\n",
       "3           -2SV-vuLB-Kg               427.50\n",
       "4      -404PageNotFound-              1509.32\n",
       "...                  ...                  ...\n",
       "68585             zzonci                19.98\n",
       "68586        zzoptimuszz                64.98\n",
       "68587            zzydrax                99.94\n",
       "68588              zzyfo               813.53\n",
       "68589         zzzmidmiss               443.68\n",
       "\n",
       "[68590 rows x 2 columns]"
      ]
     },
     "execution_count": 22,
     "metadata": {},
     "output_type": "execute_result"
    }
   ],
   "source": [
    "steams = steams[['price','item_id']]\n",
    "dinero = dfitems.merge(steams, on = 'item_id', how='inner')\n",
    "dinero = dinero.groupby(['user_id']).sum().reset_index()\n",
    "dinero = dinero[['user_id', 'price']]\n",
    "dinero = dinero.rename(columns={'price':'suma_dinero_gastado'})\n",
    "dinero"
   ]
  },
  {
   "cell_type": "code",
   "execution_count": 23,
   "metadata": {},
   "outputs": [],
   "source": [
    "#dinero.to_pickle('dinero.pkl')\n",
    "dinero.to_csv('dinero.csv')"
   ]
  }
 ],
 "metadata": {
  "kernelspec": {
   "display_name": "Python 3",
   "language": "python",
   "name": "python3"
  },
  "language_info": {
   "codemirror_mode": {
    "name": "ipython",
    "version": 3
   },
   "file_extension": ".py",
   "mimetype": "text/x-python",
   "name": "python",
   "nbconvert_exporter": "python",
   "pygments_lexer": "ipython3",
   "version": "3.9.10"
  },
  "orig_nbformat": 4
 },
 "nbformat": 4,
 "nbformat_minor": 2
}
