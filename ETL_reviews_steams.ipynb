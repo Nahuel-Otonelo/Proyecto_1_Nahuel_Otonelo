{
 "cells": [
  {
   "cell_type": "code",
   "execution_count": 1,
   "metadata": {},
   "outputs": [],
   "source": [
    "import pandas as pd\n",
    "import numpy as np\n",
    "import ast\n",
    "import json\n",
    "from datetime import datetime\n"
   ]
  },
  {
   "cell_type": "code",
   "execution_count": 2,
   "metadata": {},
   "outputs": [],
   "source": [
    "#aqui levanto el primer archivo\n",
    "filas=[]\n",
    "with open('australian_user_reviews.json', encoding='utf-8') as a:\n",
    "    for linea in a.readlines():\n",
    "        filas.append(ast.literal_eval(linea))\n",
    "\n",
    "reviews = pd.json_normalize(filas)"
   ]
  },
  {
   "cell_type": "code",
   "execution_count": 3,
   "metadata": {},
   "outputs": [],
   "source": [
    "a = list(reviews['reviews'])# tiene la lista de los items (lista de listas) 88310\n",
    "listalarga = [item for sublist in a for item in sublist]    # esta lista es una lista con todos las reviews de dimension mayor a \"a\" 5153209\n",
    "lista_n = [len (q) for q in a]  # esta lista tiene la cantidad n de reviews hechas por cada usuario. dimension = a 'a'88310\n",
    "lista_usuarios = list(reviews['user_id'])   #dimension = a 'a' 88310\n"
   ]
  },
  {
   "cell_type": "code",
   "execution_count": 4,
   "metadata": {},
   "outputs": [],
   "source": [
    "\n",
    "def repetir_elementos(lista_n, lista_u):\n",
    "    #Esta funcion es utilizada para generar una serie de la misma dimension que la serie resutaltante de explotar reviews\n",
    "    resultado = []\n",
    "    for i in range(len(lista_n)):\n",
    "        resultado.extend([lista_u[i]] * lista_n[i])\n",
    "    return resultado\n"
   ]
  },
  {
   "cell_type": "code",
   "execution_count": 6,
   "metadata": {},
   "outputs": [],
   "source": [
    "listadf = repetir_elementos(lista_n, lista_usuarios)\n",
    "dfjuntado = pd.DataFrame(listalarga)\n",
    "dfjuntado.insert(0,'user_id', listadf)"
   ]
  },
  {
   "cell_type": "code",
   "execution_count": 7,
   "metadata": {},
   "outputs": [],
   "source": [
    "def convertir_fecha(fecha_original):\n",
    "    \n",
    "    try: \n",
    "        fecha_objeto = datetime.strptime(fecha_original, '%B %d, %Y')\n",
    "    except:\n",
    "        fecha_objeto = None\n",
    "\n",
    "    return fecha_objeto"
   ]
  },
  {
   "cell_type": "code",
   "execution_count": 8,
   "metadata": {},
   "outputs": [
    {
     "name": "stderr",
     "output_type": "stream",
     "text": [
      "C:\\Users\\Nahuel Elias\\AppData\\Local\\Temp\\ipykernel_4168\\1742476862.py:2: FutureWarning: The default value of regex will change from True to False in a future version. In addition, single character regular expressions will *not* be treated as literal strings when regex=True.\n",
      "  dfjuntado['posted'] = dfjuntado['posted'].str.replace('.', '')\n"
     ]
    }
   ],
   "source": [
    "\n",
    "dfjuntado['posted'] = dfjuntado['posted'].str.replace('Posted ', '')\n",
    "dfjuntado['posted'] = dfjuntado['posted'].str.replace('.', '')\n",
    "dfjuntado['posted'] = dfjuntado['posted'].apply(convertir_fecha)    # se tienen 49186 valores con fechas correctas y 10199 con fechas incorrectas.\n",
    "dfjuntado.drop(columns='helpful', inplace=True)\n"
   ]
  },
  {
   "cell_type": "code",
   "execution_count": 9,
   "metadata": {},
   "outputs": [
    {
     "name": "stdout",
     "output_type": "stream",
     "text": [
      "<class 'pandas.core.frame.DataFrame'>\n",
      "RangeIndex: 59305 entries, 0 to 59304\n",
      "Data columns (total 7 columns):\n",
      " #   Column       Non-Null Count  Dtype         \n",
      "---  ------       --------------  -----         \n",
      " 0   user_id      59305 non-null  object        \n",
      " 1   funny        59305 non-null  object        \n",
      " 2   posted       49186 non-null  datetime64[ns]\n",
      " 3   last_edited  59305 non-null  object        \n",
      " 4   item_id      59305 non-null  int32         \n",
      " 5   recommend    59305 non-null  bool          \n",
      " 6   review       59305 non-null  object        \n",
      "dtypes: bool(1), datetime64[ns](1), int32(1), object(4)\n",
      "memory usage: 2.5+ MB\n"
     ]
    }
   ],
   "source": [
    "dfjuntado['item_id'] = dfjuntado['item_id'].astype(int)\n",
    "dfjuntado.info()"
   ]
  },
  {
   "cell_type": "code",
   "execution_count": 28,
   "metadata": {},
   "outputs": [],
   "source": [
    "dfjuntado.to_pickle(\"dfjuntado.pkl\")\n"
   ]
  },
  {
   "cell_type": "code",
   "execution_count": 10,
   "metadata": {},
   "outputs": [
    {
     "data": {
      "text/html": [
       "<div>\n",
       "<style scoped>\n",
       "    .dataframe tbody tr th:only-of-type {\n",
       "        vertical-align: middle;\n",
       "    }\n",
       "\n",
       "    .dataframe tbody tr th {\n",
       "        vertical-align: top;\n",
       "    }\n",
       "\n",
       "    .dataframe thead th {\n",
       "        text-align: right;\n",
       "    }\n",
       "</style>\n",
       "<table border=\"1\" class=\"dataframe\">\n",
       "  <thead>\n",
       "    <tr style=\"text-align: right;\">\n",
       "      <th></th>\n",
       "      <th>user_id</th>\n",
       "      <th>funny</th>\n",
       "      <th>posted</th>\n",
       "      <th>last_edited</th>\n",
       "      <th>item_id</th>\n",
       "      <th>recommend</th>\n",
       "      <th>review</th>\n",
       "    </tr>\n",
       "  </thead>\n",
       "  <tbody>\n",
       "    <tr>\n",
       "      <th>0</th>\n",
       "      <td>76561197970982479</td>\n",
       "      <td></td>\n",
       "      <td>2011-11-05</td>\n",
       "      <td></td>\n",
       "      <td>1250</td>\n",
       "      <td>True</td>\n",
       "      <td>Simple yet with great replayability. In my opi...</td>\n",
       "    </tr>\n",
       "    <tr>\n",
       "      <th>1</th>\n",
       "      <td>76561197970982479</td>\n",
       "      <td></td>\n",
       "      <td>2011-07-15</td>\n",
       "      <td></td>\n",
       "      <td>22200</td>\n",
       "      <td>True</td>\n",
       "      <td>It's unique and worth a playthrough.</td>\n",
       "    </tr>\n",
       "    <tr>\n",
       "      <th>2</th>\n",
       "      <td>76561197970982479</td>\n",
       "      <td></td>\n",
       "      <td>2011-04-21</td>\n",
       "      <td></td>\n",
       "      <td>43110</td>\n",
       "      <td>True</td>\n",
       "      <td>Great atmosphere. The gunplay can be a bit chu...</td>\n",
       "    </tr>\n",
       "    <tr>\n",
       "      <th>3</th>\n",
       "      <td>js41637</td>\n",
       "      <td></td>\n",
       "      <td>2014-06-24</td>\n",
       "      <td></td>\n",
       "      <td>251610</td>\n",
       "      <td>True</td>\n",
       "      <td>I know what you think when you see this title ...</td>\n",
       "    </tr>\n",
       "    <tr>\n",
       "      <th>4</th>\n",
       "      <td>js41637</td>\n",
       "      <td></td>\n",
       "      <td>2013-09-08</td>\n",
       "      <td></td>\n",
       "      <td>227300</td>\n",
       "      <td>True</td>\n",
       "      <td>For a simple (it's actually not all that simpl...</td>\n",
       "    </tr>\n",
       "    <tr>\n",
       "      <th>...</th>\n",
       "      <td>...</td>\n",
       "      <td>...</td>\n",
       "      <td>...</td>\n",
       "      <td>...</td>\n",
       "      <td>...</td>\n",
       "      <td>...</td>\n",
       "      <td>...</td>\n",
       "    </tr>\n",
       "    <tr>\n",
       "      <th>59300</th>\n",
       "      <td>76561198312638244</td>\n",
       "      <td></td>\n",
       "      <td>NaT</td>\n",
       "      <td></td>\n",
       "      <td>70</td>\n",
       "      <td>True</td>\n",
       "      <td>a must have classic from steam definitely wort...</td>\n",
       "    </tr>\n",
       "    <tr>\n",
       "      <th>59301</th>\n",
       "      <td>76561198312638244</td>\n",
       "      <td></td>\n",
       "      <td>NaT</td>\n",
       "      <td></td>\n",
       "      <td>362890</td>\n",
       "      <td>True</td>\n",
       "      <td>this game is a perfect remake of the original ...</td>\n",
       "    </tr>\n",
       "    <tr>\n",
       "      <th>59302</th>\n",
       "      <td>LydiaMorley</td>\n",
       "      <td>1 person found this review funny</td>\n",
       "      <td>NaT</td>\n",
       "      <td></td>\n",
       "      <td>273110</td>\n",
       "      <td>True</td>\n",
       "      <td>had so much fun plaing this and collecting res...</td>\n",
       "    </tr>\n",
       "    <tr>\n",
       "      <th>59303</th>\n",
       "      <td>LydiaMorley</td>\n",
       "      <td></td>\n",
       "      <td>NaT</td>\n",
       "      <td></td>\n",
       "      <td>730</td>\n",
       "      <td>True</td>\n",
       "      <td>:D</td>\n",
       "    </tr>\n",
       "    <tr>\n",
       "      <th>59304</th>\n",
       "      <td>LydiaMorley</td>\n",
       "      <td></td>\n",
       "      <td>NaT</td>\n",
       "      <td></td>\n",
       "      <td>440</td>\n",
       "      <td>True</td>\n",
       "      <td>so much fun :D</td>\n",
       "    </tr>\n",
       "  </tbody>\n",
       "</table>\n",
       "<p>59305 rows × 7 columns</p>\n",
       "</div>"
      ],
      "text/plain": [
       "                 user_id                             funny     posted  \\\n",
       "0      76561197970982479                                   2011-11-05   \n",
       "1      76561197970982479                                   2011-07-15   \n",
       "2      76561197970982479                                   2011-04-21   \n",
       "3                js41637                                   2014-06-24   \n",
       "4                js41637                                   2013-09-08   \n",
       "...                  ...                               ...        ...   \n",
       "59300  76561198312638244                                          NaT   \n",
       "59301  76561198312638244                                          NaT   \n",
       "59302        LydiaMorley  1 person found this review funny        NaT   \n",
       "59303        LydiaMorley                                          NaT   \n",
       "59304        LydiaMorley                                          NaT   \n",
       "\n",
       "      last_edited  item_id  recommend  \\\n",
       "0                     1250       True   \n",
       "1                    22200       True   \n",
       "2                    43110       True   \n",
       "3                   251610       True   \n",
       "4                   227300       True   \n",
       "...           ...      ...        ...   \n",
       "59300                   70       True   \n",
       "59301               362890       True   \n",
       "59302               273110       True   \n",
       "59303                  730       True   \n",
       "59304                  440       True   \n",
       "\n",
       "                                                  review  \n",
       "0      Simple yet with great replayability. In my opi...  \n",
       "1                   It's unique and worth a playthrough.  \n",
       "2      Great atmosphere. The gunplay can be a bit chu...  \n",
       "3      I know what you think when you see this title ...  \n",
       "4      For a simple (it's actually not all that simpl...  \n",
       "...                                                  ...  \n",
       "59300  a must have classic from steam definitely wort...  \n",
       "59301  this game is a perfect remake of the original ...  \n",
       "59302  had so much fun plaing this and collecting res...  \n",
       "59303                                                 :D  \n",
       "59304                                     so much fun :D  \n",
       "\n",
       "[59305 rows x 7 columns]"
      ]
     },
     "execution_count": 10,
     "metadata": {},
     "output_type": "execute_result"
    }
   ],
   "source": [
    "dfjuntado"
   ]
  },
  {
   "cell_type": "code",
   "execution_count": 3,
   "metadata": {},
   "outputs": [],
   "source": [
    "filas3=[]\n",
    "with open('output_steam_games.json', encoding='utf-8') as a:\n",
    "    for linea in a.readlines():\n",
    "        filas3.append(json.loads(linea))\n",
    "output_steams = pd.DataFrame(filas3)\n",
    "steams = pd.DataFrame(filas3)\n",
    "steams.dropna(subset=['genres','title', 'url', 'release_date', 'price', 'id', 'developer'], inplace= True)\n"
   ]
  },
  {
   "cell_type": "code",
   "execution_count": 4,
   "metadata": {},
   "outputs": [],
   "source": [
    "steams['price'] = steams['price'].replace('Free to Play', '0')\n",
    "steams['price'] = steams['price'].replace('Free To Play', '0')\n",
    "steams['price'] = steams['price'].replace('Free', '0')\n",
    "steams['price'] = pd.to_numeric(steams['price'], errors='coerce').fillna(0).astype(float)\n"
   ]
  },
  {
   "cell_type": "code",
   "execution_count": 7,
   "metadata": {},
   "outputs": [
    {
     "name": "stdout",
     "output_type": "stream",
     "text": [
      "<class 'pandas.core.frame.DataFrame'>\n",
      "Int64Index: 27462 entries, 88310 to 120443\n",
      "Data columns (total 13 columns):\n",
      " #   Column        Non-Null Count  Dtype  \n",
      "---  ------        --------------  -----  \n",
      " 0   publisher     22818 non-null  object \n",
      " 1   genres        27462 non-null  object \n",
      " 2   app_name      27462 non-null  object \n",
      " 3   title         27462 non-null  object \n",
      " 4   url           27462 non-null  object \n",
      " 5   release_date  27462 non-null  object \n",
      " 6   tags          27449 non-null  object \n",
      " 7   reviews_url   27462 non-null  object \n",
      " 8   specs         27182 non-null  object \n",
      " 9   price         27462 non-null  float64\n",
      " 10  early_access  27462 non-null  object \n",
      " 11  item_id       27462 non-null  int32  \n",
      " 12  developer     27462 non-null  object \n",
      "dtypes: float64(1), int32(1), object(11)\n",
      "memory usage: 2.8+ MB\n"
     ]
    }
   ],
   "source": [
    "steams.rename(columns={'id': 'item_id'}, inplace=True)\n",
    "steams['item_id'] = steams['item_id'].astype(int)\n",
    "steams.info()"
   ]
  },
  {
   "cell_type": "code",
   "execution_count": 8,
   "metadata": {},
   "outputs": [],
   "source": [
    "steams.to_pickle(\"steams.pkl\")"
   ]
  },
  {
   "cell_type": "code",
   "execution_count": 13,
   "metadata": {},
   "outputs": [
    {
     "name": "stderr",
     "output_type": "stream",
     "text": [
      "[nltk_data] Downloading package vader_lexicon to C:\\Users\\Nahuel\n",
      "[nltk_data]     Elias\\AppData\\Roaming\\nltk_data...\n"
     ]
    }
   ],
   "source": [
    "\n",
    "import nltk\n",
    "from nltk.sentiment.vader import SentimentIntensityAnalyzer\n",
    "\n",
    "nltk.download('vader_lexicon')\n",
    "sia = SentimentIntensityAnalyzer()\n"
   ]
  },
  {
   "cell_type": "code",
   "execution_count": 31,
   "metadata": {},
   "outputs": [],
   "source": [
    "\n",
    "def analyze_sentiment(dataframe, column_name):\n",
    "    # Aplica el analizador de sentimiento a cada registro de la columna y almacena los resultados en una nueva columna\n",
    "    dataframe['Sentiment'] = dataframe[column_name].apply(lambda x: sia.polarity_scores(x)['compound'])\n",
    "    \n",
    "    # Asigna valores numéricos según la puntuación de sentimiento\n",
    "    dataframe['Sentiment'] = dataframe['Sentiment'].apply(lambda x: 0 if x < 0 else (1 if x == 0 else 2))\n",
    "    \n",
    "    return dataframe\n",
    "\n",
    "#df_analyzed = analyze_sentiment(df, 'Text')"
   ]
  },
  {
   "cell_type": "code",
   "execution_count": 32,
   "metadata": {},
   "outputs": [],
   "source": [
    "df_sentiment = pd.read_pickle(\"dfjuntado.pkl\")"
   ]
  },
  {
   "cell_type": "code",
   "execution_count": 36,
   "metadata": {},
   "outputs": [],
   "source": [
    "df_sentiment = analyze_sentiment(df_sentiment, 'review')\n"
   ]
  },
  {
   "cell_type": "code",
   "execution_count": 46,
   "metadata": {},
   "outputs": [],
   "source": [
    "df_sentiment.loc[df_sentiment['review']=='']; # con esto puede verse como la funcion analyze_sentiment retorna 1 cuando los valores de review estan vacios"
   ]
  },
  {
   "cell_type": "code",
   "execution_count": 47,
   "metadata": {},
   "outputs": [],
   "source": [
    "df_sentiment.to_pickle('df_sentiment.pkl')"
   ]
  }
 ],
 "metadata": {
  "kernelspec": {
   "display_name": "Python 3",
   "language": "python",
   "name": "python3"
  },
  "language_info": {
   "codemirror_mode": {
    "name": "ipython",
    "version": 3
   },
   "file_extension": ".py",
   "mimetype": "text/x-python",
   "name": "python",
   "nbconvert_exporter": "python",
   "pygments_lexer": "ipython3",
   "version": "3.9.10"
  },
  "orig_nbformat": 4
 },
 "nbformat": 4,
 "nbformat_minor": 2
}
